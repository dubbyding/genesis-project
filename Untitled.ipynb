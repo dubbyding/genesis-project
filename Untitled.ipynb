{
 "cells": [
  {
   "cell_type": "code",
   "execution_count": 1,
   "id": "1b9a8b87",
   "metadata": {},
   "outputs": [],
   "source": [
    "!pip install yfinance --quiet"
   ]
  },
  {
   "cell_type": "code",
   "execution_count": 2,
   "id": "33ef8f29",
   "metadata": {},
   "outputs": [],
   "source": [
    "import requests\n",
    "import numpy as np\n",
    "import pandas as pd\n",
    "import datetime as dt\n",
    "from bs4 import BeautifulSoup\n",
    "import yfinance as yf\n",
    "import matplotlib.pyplot as plt\n",
    "\n",
    "from sklearn.model_selection import train_test_split\n",
    "\n",
    "import keras\n",
    "from keras.models import Sequential\n",
    "from keras.layers import Dense\n",
    "from keras.layers import Flatten\n",
    "from keras.layers.convolutional import Conv1D\n",
    "from keras.layers.convolutional import MaxPooling1D\n",
    "\n",
    "from keras.layers import GRU, Bidirectional, LSTM"
   ]
  },
  {
   "cell_type": "code",
   "execution_count": 3,
   "id": "e6f13744",
   "metadata": {},
   "outputs": [],
   "source": [
    "url = \"https://in.finance.yahoo.com/quote/SBIN.NS/balance-sheet?p=SBIN.NS\"\n",
    "page = requests.get(url)\n",
    "page_content = page.content\n",
    "soup = BeautifulSoup(page_content,'html.parser')"
   ]
  },
  {
   "cell_type": "code",
   "execution_count": 4,
   "id": "a0ccddc1",
   "metadata": {},
   "outputs": [],
   "source": [
    "table = soup.find_all(\"Pos(r)\")"
   ]
  },
  {
   "cell_type": "code",
   "execution_count": 5,
   "id": "e671b4b5",
   "metadata": {},
   "outputs": [
    {
     "name": "stdout",
     "output_type": "stream",
     "text": [
      "[*********************100%***********************]  1 of 1 completed\n"
     ]
    }
   ],
   "source": [
    "df = yf.download(\"MSFT\",period = \"4y\",interval = \"1d\")"
   ]
  },
  {
   "cell_type": "code",
   "execution_count": 6,
   "id": "b74bbf99",
   "metadata": {},
   "outputs": [
    {
     "data": {
      "text/html": [
       "<div>\n",
       "<style scoped>\n",
       "    .dataframe tbody tr th:only-of-type {\n",
       "        vertical-align: middle;\n",
       "    }\n",
       "\n",
       "    .dataframe tbody tr th {\n",
       "        vertical-align: top;\n",
       "    }\n",
       "\n",
       "    .dataframe thead th {\n",
       "        text-align: right;\n",
       "    }\n",
       "</style>\n",
       "<table border=\"1\" class=\"dataframe\">\n",
       "  <thead>\n",
       "    <tr style=\"text-align: right;\">\n",
       "      <th></th>\n",
       "      <th>Open</th>\n",
       "      <th>High</th>\n",
       "      <th>Low</th>\n",
       "      <th>Close</th>\n",
       "      <th>Adj Close</th>\n",
       "      <th>Volume</th>\n",
       "    </tr>\n",
       "    <tr>\n",
       "      <th>Date</th>\n",
       "      <th></th>\n",
       "      <th></th>\n",
       "      <th></th>\n",
       "      <th></th>\n",
       "      <th></th>\n",
       "      <th></th>\n",
       "    </tr>\n",
       "  </thead>\n",
       "  <tbody>\n",
       "    <tr>\n",
       "      <th>2018-02-14</th>\n",
       "      <td>88.510002</td>\n",
       "      <td>90.989998</td>\n",
       "      <td>88.410004</td>\n",
       "      <td>90.809998</td>\n",
       "      <td>87.048904</td>\n",
       "      <td>34960900</td>\n",
       "    </tr>\n",
       "    <tr>\n",
       "      <th>2018-02-15</th>\n",
       "      <td>91.209999</td>\n",
       "      <td>92.720001</td>\n",
       "      <td>90.620003</td>\n",
       "      <td>92.660004</td>\n",
       "      <td>88.822281</td>\n",
       "      <td>27823900</td>\n",
       "    </tr>\n",
       "    <tr>\n",
       "      <th>2018-02-16</th>\n",
       "      <td>92.449997</td>\n",
       "      <td>93.500000</td>\n",
       "      <td>91.800003</td>\n",
       "      <td>92.000000</td>\n",
       "      <td>88.189613</td>\n",
       "      <td>30596900</td>\n",
       "    </tr>\n",
       "    <tr>\n",
       "      <th>2018-02-20</th>\n",
       "      <td>91.480003</td>\n",
       "      <td>93.059998</td>\n",
       "      <td>91.010002</td>\n",
       "      <td>92.720001</td>\n",
       "      <td>88.879791</td>\n",
       "      <td>30911700</td>\n",
       "    </tr>\n",
       "    <tr>\n",
       "      <th>2018-02-21</th>\n",
       "      <td>92.980003</td>\n",
       "      <td>93.360001</td>\n",
       "      <td>91.489998</td>\n",
       "      <td>91.489998</td>\n",
       "      <td>87.700729</td>\n",
       "      <td>26922500</td>\n",
       "    </tr>\n",
       "  </tbody>\n",
       "</table>\n",
       "</div>"
      ],
      "text/plain": [
       "                 Open       High        Low      Close  Adj Close    Volume\n",
       "Date                                                                       \n",
       "2018-02-14  88.510002  90.989998  88.410004  90.809998  87.048904  34960900\n",
       "2018-02-15  91.209999  92.720001  90.620003  92.660004  88.822281  27823900\n",
       "2018-02-16  92.449997  93.500000  91.800003  92.000000  88.189613  30596900\n",
       "2018-02-20  91.480003  93.059998  91.010002  92.720001  88.879791  30911700\n",
       "2018-02-21  92.980003  93.360001  91.489998  91.489998  87.700729  26922500"
      ]
     },
     "execution_count": 6,
     "metadata": {},
     "output_type": "execute_result"
    }
   ],
   "source": [
    "df.head()"
   ]
  },
  {
   "cell_type": "code",
   "execution_count": 7,
   "id": "a3b03e32",
   "metadata": {},
   "outputs": [
    {
     "data": {
      "text/plain": [
       "(1007, 6)"
      ]
     },
     "execution_count": 7,
     "metadata": {},
     "output_type": "execute_result"
    }
   ],
   "source": [
    "df.shape"
   ]
  },
  {
   "cell_type": "code",
   "execution_count": 8,
   "id": "ddf0abf0",
   "metadata": {},
   "outputs": [
    {
     "data": {
      "text/plain": [
       "Open         0\n",
       "High         0\n",
       "Low          0\n",
       "Close        0\n",
       "Adj Close    0\n",
       "Volume       0\n",
       "dtype: int64"
      ]
     },
     "execution_count": 8,
     "metadata": {},
     "output_type": "execute_result"
    }
   ],
   "source": [
    "df.isna().sum()"
   ]
  },
  {
   "cell_type": "code",
   "execution_count": 9,
   "id": "44013468",
   "metadata": {},
   "outputs": [
    {
     "data": {
      "text/plain": [
       "<AxesSubplot:xlabel='Date'>"
      ]
     },
     "execution_count": 9,
     "metadata": {},
     "output_type": "execute_result"
    },
    {
     "data": {
      "image/png": "[encoded data removed]",
      "text/plain": [
       "<Figure size 432x288 with 1 Axes>"
      ]
     },
     "metadata": {
      "needs_background": "light"
     },
     "output_type": "display_data"
    }
   ],
   "source": [
    "df[\"Open\"].plot()"
   ]
  },
  {
   "cell_type": "code",
   "execution_count": 10,
   "id": "a6ea440d",
   "metadata": {},
   "outputs": [],
   "source": [
    "df_open = df[[\"Open\"]]"
   ]
  },
  {
   "cell_type": "code",
   "execution_count": 11,
   "id": "377e995e",
   "metadata": {},
   "outputs": [
    {
     "data": {
      "text/html": [
       "<div>\n",
       "<style scoped>\n",
       "    .dataframe tbody tr th:only-of-type {\n",
       "        vertical-align: middle;\n",
       "    }\n",
       "\n",
       "    .dataframe tbody tr th {\n",
       "        vertical-align: top;\n",
       "    }\n",
       "\n",
       "    .dataframe thead th {\n",
       "        text-align: right;\n",
       "    }\n",
       "</style>\n",
       "<table border=\"1\" class=\"dataframe\">\n",
       "  <thead>\n",
       "    <tr style=\"text-align: right;\">\n",
       "      <th></th>\n",
       "      <th>Open</th>\n",
       "    </tr>\n",
       "    <tr>\n",
       "      <th>Date</th>\n",
       "      <th></th>\n",
       "    </tr>\n",
       "  </thead>\n",
       "  <tbody>\n",
       "    <tr>\n",
       "      <th>2018-02-14</th>\n",
       "      <td>88.510002</td>\n",
       "    </tr>\n",
       "    <tr>\n",
       "      <th>2018-02-15</th>\n",
       "      <td>91.209999</td>\n",
       "    </tr>\n",
       "    <tr>\n",
       "      <th>2018-02-16</th>\n",
       "      <td>92.449997</td>\n",
       "    </tr>\n",
       "    <tr>\n",
       "      <th>2018-02-20</th>\n",
       "      <td>91.480003</td>\n",
       "    </tr>\n",
       "    <tr>\n",
       "      <th>2018-02-21</th>\n",
       "      <td>92.980003</td>\n",
       "    </tr>\n",
       "  </tbody>\n",
       "</table>\n",
       "</div>"
      ],
      "text/plain": [
       "                 Open\n",
       "Date                 \n",
       "2018-02-14  88.510002\n",
       "2018-02-15  91.209999\n",
       "2018-02-16  92.449997\n",
       "2018-02-20  91.480003\n",
       "2018-02-21  92.980003"
      ]
     },
     "execution_count": 11,
     "metadata": {},
     "output_type": "execute_result"
    }
   ],
   "source": [
    "df_open.head()"
   ]
  },
  {
   "cell_type": "code",
   "execution_count": 12,
   "id": "92497ed1",
   "metadata": {},
   "outputs": [],
   "source": [
    "df_open_scaled = (df_open - df_open.min(axis=0)) / (df_open.max(axis=0) - df_open.min(axis=0))"
   ]
  },
  {
   "cell_type": "code",
   "execution_count": 13,
   "id": "e180e262",
   "metadata": {},
   "outputs": [
    {
     "data": {
      "text/html": [
       "<div>\n",
       "<style scoped>\n",
       "    .dataframe tbody tr th:only-of-type {\n",
       "        vertical-align: middle;\n",
       "    }\n",
       "\n",
       "    .dataframe tbody tr th {\n",
       "        vertical-align: top;\n",
       "    }\n",
       "\n",
       "    .dataframe thead th {\n",
       "        text-align: right;\n",
       "    }\n",
       "</style>\n",
       "<table border=\"1\" class=\"dataframe\">\n",
       "  <thead>\n",
       "    <tr style=\"text-align: right;\">\n",
       "      <th></th>\n",
       "      <th>Open</th>\n",
       "    </tr>\n",
       "    <tr>\n",
       "      <th>Date</th>\n",
       "      <th></th>\n",
       "    </tr>\n",
       "  </thead>\n",
       "  <tbody>\n",
       "    <tr>\n",
       "      <th>2018-02-14</th>\n",
       "      <td>0.002570</td>\n",
       "    </tr>\n",
       "    <tr>\n",
       "      <th>2018-02-15</th>\n",
       "      <td>0.013086</td>\n",
       "    </tr>\n",
       "    <tr>\n",
       "      <th>2018-02-16</th>\n",
       "      <td>0.017915</td>\n",
       "    </tr>\n",
       "    <tr>\n",
       "      <th>2018-02-20</th>\n",
       "      <td>0.014137</td>\n",
       "    </tr>\n",
       "    <tr>\n",
       "      <th>2018-02-21</th>\n",
       "      <td>0.019979</td>\n",
       "    </tr>\n",
       "  </tbody>\n",
       "</table>\n",
       "</div>"
      ],
      "text/plain": [
       "                Open\n",
       "Date                \n",
       "2018-02-14  0.002570\n",
       "2018-02-15  0.013086\n",
       "2018-02-16  0.017915\n",
       "2018-02-20  0.014137\n",
       "2018-02-21  0.019979"
      ]
     },
     "execution_count": 13,
     "metadata": {},
     "output_type": "execute_result"
    }
   ],
   "source": [
    "df_open_scaled.head()"
   ]
  },
  {
   "cell_type": "code",
   "execution_count": 14,
   "id": "dd1bf444",
   "metadata": {},
   "outputs": [
    {
     "data": {
      "text/plain": [
       "<AxesSubplot:xlabel='Date'>"
      ]
     },
     "execution_count": 14,
     "metadata": {},
     "output_type": "execute_result"
    },
    {
     "data": {
      "image/png": "[encoded data removed]",
      "text/plain": [
       "<Figure size 432x288 with 1 Axes>"
      ]
     },
     "metadata": {
      "needs_background": "light"
     },
     "output_type": "display_data"
    }
   ],
   "source": [
    "df_open_scaled[\"Open\"].plot()"
   ]
  },
  {
   "cell_type": "code",
   "execution_count": 15,
   "id": "f1a56ee1",
   "metadata": {},
   "outputs": [],
   "source": [
    "# split a univariate sequence into samples\n",
    "def split_sequence(sequence, steps):\n",
    "  X, y = list(), list()\n",
    "  for start in range(len(sequence)):\n",
    "    # define the end index of the sequence\n",
    "    end_index = start + steps\n",
    "    # to check if end_index stays in the allowable limit\n",
    "    if end_index > len(sequence)-1:\n",
    "      break\n",
    "    # extract input and output parts of the sequence\n",
    "    sequence_x, sequence_y = sequence[start : end_index], sequence[end_index]\n",
    "    X.append(sequence_x)\n",
    "    y.append(sequence_y)\n",
    "  return np.array(X), np.array(y)"
   ]
  },
  {
   "cell_type": "code",
   "execution_count": 16,
   "id": "a9848c8c",
   "metadata": {},
   "outputs": [
    {
     "name": "stdout",
     "output_type": "stream",
     "text": [
      "**************************************************************\n",
      "The input raw sequence on which we will test our CNN model\n",
      "                Open\n",
      "Date                \n",
      "2018-02-14  0.002570\n",
      "2018-02-15  0.013086\n",
      "2018-02-16  0.017915\n",
      "2018-02-20  0.014137\n",
      "2018-02-21  0.019979\n",
      "...              ...\n",
      "2022-02-07  0.850255\n",
      "2022-02-08  0.831094\n",
      "2022-02-09  0.864665\n",
      "2022-02-10  0.841960\n",
      "2022-02-11  0.838649\n",
      "\n",
      "[1007 rows x 1 columns]\n",
      "**************************************************************\n",
      "The features (X) ,lagged values of time series, for our CNN model\n",
      "[[0.00257041 0.01308564 0.01791486 ... 0.03267515 0.02122524 0.02219887]\n",
      " [0.01308564 0.01791486 0.01413718 ... 0.02122524 0.02219887 0.03797173]\n",
      " [0.01791486 0.01413718 0.01997899 ... 0.02219887 0.03797173 0.03302568]\n",
      " ...\n",
      " [0.96230092 0.96378086 0.96304089 ... 0.82704364 0.85025516 0.83109399]\n",
      " [0.96378086 0.96304089 0.94423022 ... 0.85025516 0.83109399 0.86466487]\n",
      " [0.96304089 0.94423022 0.95081199 ... 0.83109399 0.86466487 0.84195978]]\n",
      "**************************************************************\n",
      "The respective observed values (y) of the sequence for training in CNN model\n",
      "[0.03797173 0.03302568 0.02087472 0.02780698 0.01990108 0.02130312\n",
      " 0.028508   0.03115629 0.03177943 0.03742649 0.03875065 0.03921798\n",
      " 0.03656969 0.03703705 0.03470033 0.03177943 0.03563501 0.0382833\n",
      " 0.03450559 0.04237257 0.04069792 0.03890641 0.04073684 0.0445535\n",
      " 0.04451455 0.05222574 0.05510769 0.05697708 0.05763914 0.05156365\n",
      " 0.05125211 0.0516026  0.05401723 0.05374461 0.05319938 0.04735757\n",
      " 0.04595554 0.05265414 0.05541926 0.04891539 0.04731862 0.04272306\n",
      " 0.04568292 0.03711492 0.04315147 0.03991899 0.04918801 0.04537135\n",
      " 0.04689022 0.05374461 0.05510769 0.05179734 0.05810647 0.06433775\n",
      " 0.06834912 0.06527243 0.07045217 0.06651868 0.07878648 0.07185421\n",
      " 0.08069479 0.07831912 0.08914593 0.086965   0.07532034 0.07259415\n",
      " 0.07080267 0.06834912 0.07769601 0.07894226 0.08065584 0.08365465\n",
      " 0.08513456 0.08400514 0.08330412 0.08065584 0.08038322 0.07964328\n",
      " 0.07598241 0.07656659 0.0742688  0.07010165 0.07516456 0.0771897\n",
      " 0.08342095 0.08603032 0.08801651 0.09276785 0.09284575 0.08957433\n",
      " 0.09019747 0.07944854 0.07937066 0.0817463  0.08198    0.09183317\n",
      " 0.09452041 0.09934962 0.10063483 0.09479302 0.09814233 0.09514352\n",
      " 0.10184212 0.09806442 0.10495776 0.10367256 0.10487986 0.10258209\n",
      " 0.10476302 0.10690503 0.10737236 0.10421779 0.0965066  0.09272892\n",
      " 0.09070375 0.0910932  0.06815438 0.0824084  0.08201895 0.0844725\n",
      " 0.0928068  0.08665343 0.08209683 0.08361569 0.07757915 0.08007168\n",
      " 0.07282784 0.06947854 0.07890331 0.06157263 0.0685049  0.07477511\n",
      " 0.07255523 0.07212682 0.07606028 0.08408305 0.09327416 0.08957433\n",
      " 0.08400514 0.07672238 0.07886435 0.06675234 0.07489194 0.07952642\n",
      " 0.0543288  0.06133894 0.05576975 0.06597345 0.07173735 0.07804651\n",
      " 0.08754918 0.08899014 0.09794759 0.09381939 0.06998482 0.07995482\n",
      " 0.0660124  0.08548508 0.08973011 0.08462828 0.07944854 0.06838807\n",
      " 0.06192313 0.06153368 0.05919697 0.0536667  0.0382833  0.02839117\n",
      " 0.04459246 0.05545818 0.05234257 0.04556609 0.04770807 0.04622815\n",
      " 0.05370566 0.05915801 0.06235153 0.05985903 0.0597422  0.05471824\n",
      " 0.05709391 0.06780389 0.0667913  0.07637185 0.07360674 0.07115319\n",
      " 0.07403514 0.07551505 0.07169842 0.06632394 0.06531139 0.06211787\n",
      " 0.06203996 0.05849595 0.0709195  0.07458037 0.06753127 0.06441563\n",
      " 0.07146473 0.07123107 0.07652764 0.07189313 0.07812441 0.07765706\n",
      " 0.07792967 0.07419092 0.08645872 0.09311837 0.0911711  0.09284575\n",
      " 0.09420884 0.09751919 0.09802546 0.09502668 0.09354677 0.09171634\n",
      " 0.08299258 0.09011956 0.09724657 0.1023484  0.10394518 0.10706079\n",
      " 0.11029326 0.11777076 0.1150446  0.11407096 0.12326207 0.11181213\n",
      " 0.11983489 0.11695291 0.11523934 0.11769288 0.12112006 0.12154847\n",
      " 0.12466411 0.12559879 0.12283367 0.12446937 0.11987381 0.12427466\n",
      " 0.12731239 0.12770184 0.12887021 0.13159638 0.13003856 0.13373838\n",
      " 0.13541303 0.14117693 0.14775871 0.16438836 0.16298633 0.16376522\n",
      " 0.16341473 0.1662188  0.15628775 0.15387313 0.15009542 0.15036804\n",
      " 0.14639562 0.1419169  0.14433152 0.14121588 0.1402812  0.14180007\n",
      " 0.15149746 0.15757292 0.1506017  0.15414574 0.15099118 0.14935545\n",
      " 0.1521206  0.15239321 0.14616193 0.14569461 0.14168324 0.1402033\n",
      " 0.13019434 0.14448728 0.15029016 0.16100013 0.17350156 0.17926552\n",
      " 0.16960703 0.17186586 0.17295633 0.17439735 0.18047281 0.18362738\n",
      " 0.19316898 0.18978075 0.19141645 0.19239009 0.18109595 0.18027808\n",
      " 0.18195276 0.18997549 0.18798924 0.19063756 0.18728825 0.18907971\n",
      " 0.18752192 0.19192276 0.19608988 0.19862137 0.20091913 0.19904977\n",
      " 0.19414261 0.18576939 0.20395686 0.19301323 0.20216535 0.19881605\n",
      " 0.20477468 0.20454102 0.20894186 0.20364529 0.20438526 0.19141645\n",
      " 0.19566148 0.17700668 0.17895395 0.17891496 0.18985866 0.19768666\n",
      " 0.1916891  0.18771665 0.18892395 0.18125171 0.18316005 0.19472683\n",
      " 0.19612887 0.19745299 0.1978814  0.19215642 0.18358846 0.18904078\n",
      " 0.18316005 0.19239009 0.19978968 0.18989758 0.19258482 0.19963392\n",
      " 0.20321689 0.20150329 0.19063756 0.18717142 0.19472683 0.19445418\n",
      " 0.18685985 0.1912607  0.19281849 0.20426843 0.20703352 0.20010125\n",
      " 0.20450209 0.19336372 0.20091913 0.20368422 0.19550573 0.20177593\n",
      " 0.18849555 0.18343264 0.19044282 0.19196168 0.19172802 0.19320796\n",
      " 0.19721933 0.20356738 0.20189276 0.20333372 0.20617672 0.20679986\n",
      " 0.20216535 0.19706352 0.19908869 0.19094913 0.20072439 0.20052965\n",
      " 0.22023599 0.21898977 0.21680884 0.22218326 0.21969076 0.22191068\n",
      " 0.22245591 0.22011916 0.21805506 0.2186003  0.22389687 0.22755774\n",
      " 0.22934925 0.23043972 0.23787824 0.24231807 0.24547263 0.24325272\n",
      " 0.23970867 0.24231807 0.24204542 0.24734199 0.2511197  0.25022397\n",
      " 0.24909452 0.23227016 0.24259065 0.24224016 0.24590103 0.2462126\n",
      " 0.24706934 0.24804298 0.24847138 0.25372903 0.2619465  0.26327063\n",
      " 0.25879194 0.25762356 0.27067028 0.27366903 0.27117653 0.2714881\n",
      " 0.27884877 0.27705732 0.26841144 0.27623944 0.27444799 0.26961874\n",
      " 0.27834252 0.2768236  0.28815671 0.2919734  0.28784514 0.29419325\n",
      " 0.29119444 0.29793204 0.30988823 0.30700625 0.30981032 0.30509797\n",
      " 0.31023872 0.28546947 0.29571212 0.31152393 0.33570902 0.32854309\n",
      " 0.32161076 0.34774312 0.37457648 0.3626592  0.36998095 0.37282395\n",
      " 0.40035828 0.38061302 0.37087668 0.37153874 0.38072985 0.39027145\n",
      " 0.38594851 0.37122717 0.31125134 0.33629318 0.31880675 0.29392067\n",
      " 0.25143127 0.30167076 0.33473539 0.31405541 0.30455273 0.29115552\n",
      " 0.24593996 0.27382485 0.26981348 0.22374111 0.23230908 0.20310006\n",
      " 0.20310006 0.19531099 0.21388794 0.22646728 0.19145538 0.21770457\n",
      " 0.23780039 0.23581414 0.24886086 0.2515481  0.27865403 0.25372903\n",
      " 0.24928926 0.26190758 0.28223706 0.31833937 0.30307279 0.30576003\n",
      " 0.29793204 0.3160416  0.32460957 0.33668266 0.35693423 0.34575693\n",
      " 0.33356702 0.32534954 0.33594269 0.32795887 0.34560112 0.34170658\n",
      " 0.33247655 0.3588815  0.34252446 0.33742263 0.36129609 0.36698214\n",
      " 0.37512171 0.37827627 0.37114926 0.38536436 0.36881258 0.34930092\n",
      " 0.35522063 0.38127508 0.37847101 0.37761421 0.37991197 0.37130508\n",
      " 0.38357284 0.3596604  0.36176348 0.36951357 0.3687736  0.37543328\n",
      " 0.37765319 0.37562802 0.36908517 0.38201505 0.39003779 0.4022277\n",
      " 0.41001678 0.39992988 0.37671848 0.40908207 0.41741637 0.413405\n",
      " 0.43128091 0.4203762  0.44491179 0.4430035  0.42820425 0.43572068\n",
      " 0.42033727 0.42851582 0.44900106 0.45889316 0.47116098 0.47747011\n",
      " 0.47599023 0.50037    0.48981578 0.49316509 0.46064575 0.47400398\n",
      " 0.45780269 0.4541808  0.4562449  0.4899716  0.47260194 0.46477394\n",
      " 0.43840792 0.44249719 0.4508315  0.44650856 0.44066676 0.45390815\n",
      " 0.48163729 0.49195779 0.49480078 0.48483078 0.4946061  0.48222145\n",
      " 0.46465711 0.45737429 0.47353665 0.47088833 0.47415979 0.47778168\n",
      " 0.48152046 0.47392607 0.49075049 0.49437238 0.48779067 0.50640654\n",
      " 0.52591815 0.54652022 0.54192469 0.53612181 0.5457024  0.55076531\n",
      " 0.49557974 0.4620867  0.46637072 0.48895898 0.46481287 0.45328507\n",
      " 0.46956421 0.47813217 0.43696696 0.44767693 0.42582858 0.45647856\n",
      " 0.46753903 0.43618806 0.45059783 0.47914479 0.47318616 0.46687697\n",
      " 0.48930953 0.46792851 0.46489078 0.47112206 0.46426764 0.47770377\n",
      " 0.48050784 0.50995053 0.52525608 0.52634655 0.50336881 0.5152471\n",
      " 0.51629864 0.4983059  0.48786851 0.49102308 0.49530709 0.49071157\n",
      " 0.48190988 0.4666433  0.45262301 0.4504031  0.45347975 0.45192196\n",
      " 0.49137363 0.52260777 0.52346457 0.53195469 0.49324299 0.48502552\n",
      " 0.50379721 0.50048683 0.49468395 0.49947427 0.48993261 0.48109206\n",
      " 0.48428555 0.47941738 0.47412081 0.49561866 0.4946061  0.4916852\n",
      " 0.49328192 0.49472294 0.49367139 0.49215253 0.49273668 0.49117889\n",
      " 0.4958134  0.48261093 0.47591232 0.48779067 0.49585232 0.49421663\n",
      " 0.51415663 0.50917163 0.50512134 0.52513925 0.52677495 0.52019317\n",
      " 0.53199361 0.53923745 0.53503135 0.52128364 0.52451611 0.50399189\n",
      " 0.48416872 0.49145148 0.50952212 0.50870431 0.50103206 0.49137363\n",
      " 0.4987343  0.48942636 0.49032209 0.5057055  0.53296725 0.54223626\n",
      " 0.55018109 0.56085214 0.58476459 0.57545665 0.57693659 0.57331464\n",
      " 0.59761657 0.59087904 0.60291314 0.60123846 0.60482143 0.59983642\n",
      " 0.61202634 0.61116954 0.60785916 0.61214317 0.59769448 0.59956384\n",
      " 0.60715817 0.58250575 0.5548935  0.55364722 0.56170894 0.55956694\n",
      " 0.57658604 0.58090898 0.56202051 0.54091213 0.55173894 0.5589438\n",
      " 0.56482458 0.58087005 0.57292523 0.56922537 0.57292523 0.57806598\n",
      " 0.57755967 0.5635783  0.55758074 0.55465984 0.5827784  0.58418043\n",
      " 0.57424935 0.55964484 0.57927328 0.56735601 0.56494141 0.58659503\n",
      " 0.60330256 0.62219108 0.62296998 0.6422869  0.64267632 0.64984231\n",
      " 0.65977339 0.66063019 0.66238266 0.66838028 0.67118435 0.66195432\n",
      " 0.66631618 0.6712622  0.66218798 0.67690933 0.6765977  0.65517775\n",
      " 0.65276321 0.63048646 0.64474042 0.63527673 0.62783815 0.61767341\n",
      " 0.63987225 0.63488725 0.61027381 0.6010048  0.59956384 0.61428518\n",
      " 0.61806288 0.61697242 0.58986642 0.60797605 0.62203533 0.62289207\n",
      " 0.63839237 0.63706818 0.63605562 0.63539356 0.63628928 0.62421626\n",
      " 0.61288314 0.62277524 0.63142111 0.65159484 0.64633719 0.64820655\n",
      " 0.66261633 0.66226583 0.6695486  0.66810764 0.65513888 0.66900342\n",
      " 0.66974339 0.68103752 0.69377261 0.69443474 0.69470738 0.69455157\n",
      " 0.7049889  0.71207698 0.70787082 0.72037236 0.74066286 0.74599836\n",
      " 0.73626202 0.73166649 0.74506371 0.73867661 0.75748729 0.75612417\n",
      " 0.75639682 0.74416792 0.74066286 0.74405109 0.76329011 0.77703781\n",
      " 0.78338593 0.78506055 0.78334694 0.77263697 0.76846991 0.77310429\n",
      " 0.76944354 0.77255912 0.77512953 0.78147764 0.78630683 0.78260697\n",
      " 0.77641467 0.77415589 0.78525535 0.79970404 0.79658846 0.79522535\n",
      " 0.78217863 0.82513536 0.83888306 0.84577635 0.84297228 0.83008137\n",
      " 0.8222923  0.83058768 0.84343972 0.83740312 0.83479385 0.83008137\n",
      " 0.83015934 0.82536902 0.82941937 0.82007251 0.81668416 0.82451222\n",
      " 0.83892205 0.84086932 0.84246609 0.81193282 0.80944038 0.81349073\n",
      " 0.82174713 0.81933254 0.81119297 0.78650151 0.76819726 0.77057287\n",
      " 0.7565915  0.77715464 0.76410792 0.77084552 0.80745413 0.81150448\n",
      " 0.79865256 0.80807727 0.80640265 0.82314911 0.83533902 0.84012934\n",
      " 0.85874522 0.86209447 0.8541497  0.86672897 0.86267862 0.86906572\n",
      " 0.8885384  0.92097983 0.920201   0.94835841 0.9442692  0.95825057\n",
      " 0.95431717 0.97620444 0.97149197 0.970752   0.96085996 0.94793007\n",
      " 0.95832854 0.97242674 0.96518284 0.97787906 0.97491918 0.99228889\n",
      " 1.         0.97051833 0.96751958 0.96000316 0.96230092 0.96378086\n",
      " 0.96304089 0.94423022 0.95081199 0.91950001 0.949449   0.96374188\n",
      " 0.96023682 0.96245673 0.98465552 0.95560231 0.93764844 0.96529967\n",
      " 0.90754375 0.90431122 0.9169296  0.93644114 0.95377188 0.96432604\n",
      " 0.99427503 0.98707011 0.98944584 0.97620444 0.96389769 0.96187246\n",
      " 0.92693847 0.87743895 0.88133348 0.86318493 0.87833473 0.9028314\n",
      " 0.90594698 0.8427776  0.84207661 0.85072249 0.86154929 0.83670213\n",
      " 0.79584849 0.79320011 0.85734313 0.8365853  0.82712161 0.86108197\n",
      " 0.86676796 0.86373022 0.86318493 0.82704364 0.85025516 0.83109399\n",
      " 0.86466487 0.84195978 0.8386494 ]\n",
      "**************************************************************\n"
     ]
    }
   ],
   "source": [
    "# choose a number of time steps\n",
    "steps = 50\n",
    "\n",
    "# split into samples\n",
    "X, y = split_sequence(df_open_scaled[\"Open\"], steps)\n",
    "\n",
    "print(\"**************************************************************\")\n",
    "print(\"The input raw sequence on which we will test our CNN model\")\n",
    "print(df_open_scaled)\n",
    "print(\"**************************************************************\")\n",
    "print(\"The features (X) ,lagged values of time series, for our CNN model\")\n",
    "print(X)\n",
    "print(\"**************************************************************\")\n",
    "print(\"The respective observed values (y) of the sequence for training in CNN model\")\n",
    "print(y)\n",
    "print(\"**************************************************************\")"
   ]
  },
  {
   "cell_type": "code",
   "execution_count": 17,
   "id": "ed2df96d",
   "metadata": {},
   "outputs": [],
   "source": [
    "# reshape 2D input data to 3D input data\n",
    "features = 1\n",
    "X = X.reshape((X.shape[0], X.shape[1], features))"
   ]
  },
  {
   "cell_type": "code",
   "execution_count": 18,
   "id": "c6935bb9",
   "metadata": {},
   "outputs": [],
   "source": [
    "X_train, X_test, y_train, y_test = train_test_split(X, y, test_size=0.33, random_state=42)"
   ]
  },
  {
   "cell_type": "code",
   "execution_count": 19,
   "id": "2a1b613e",
   "metadata": {},
   "outputs": [],
   "source": [
    "# Defining model Architecture\n",
    "model = Sequential()\n",
    "model.add(Conv1D(filters=64, kernel_size=2, activation='relu', input_shape=(steps,\n",
    "features)))\n",
    "model.add(MaxPooling1D(pool_size=2))\n",
    "model.add(Bidirectional(GRU(32, return_sequences=True), input_shape=(int((X_train.shape[1])/2), X_train.shape[2])))\n",
    "model.add(Bidirectional(GRU(24, return_sequences=True), input_shape=(int((X_train.shape[1])/2), X_train.shape[2])))\n",
    "model.add(Dense(100, activation='relu'))\n",
    "model.add(Dense(1))\n",
    "model.compile(optimizer='adam', loss='mse')"
   ]
  },
  {
   "cell_type": "code",
   "execution_count": 20,
   "id": "b3694b04",
   "metadata": {},
   "outputs": [
    {
     "name": "stdout",
     "output_type": "stream",
     "text": [
      "Model: \"sequential\"\n",
      "_________________________________________________________________\n",
      "Layer (type)                 Output Shape              Param #   \n",
      "=================================================================\n",
      "conv1d (Conv1D)              (None, 49, 64)            192       \n",
      "_________________________________________________________________\n",
      "max_pooling1d (MaxPooling1D) (None, 24, 64)            0         \n",
      "_________________________________________________________________\n",
      "bidirectional (Bidirectional (None, 24, 64)            18816     \n",
      "_________________________________________________________________\n",
      "bidirectional_1 (Bidirection (None, 24, 48)            12960     \n",
      "_________________________________________________________________\n",
      "dense (Dense)                (None, 24, 100)           4900      \n",
      "_________________________________________________________________\n",
      "dense_1 (Dense)              (None, 24, 1)             101       \n",
      "=================================================================\n",
      "Total params: 36,969\n",
      "Trainable params: 36,969\n",
      "Non-trainable params: 0\n",
      "_________________________________________________________________\n"
     ]
    }
   ],
   "source": [
    "model.summary()"
   ]
  },
  {
   "cell_type": "code",
   "execution_count": 21,
   "id": "5f113583",
   "metadata": {},
   "outputs": [],
   "source": [
    "class LossHistory(keras.callbacks.Callback):\n",
    "    def on_train_begin(self, logs={}):\n",
    "        self.losses = []\n",
    "\n",
    "    def on_batch_end(self, batch, logs={}):\n",
    "        self.losses.append(logs.get('loss'))"
   ]
  },
  {
   "cell_type": "code",
   "execution_count": 22,
   "id": "f2f30f6a",
   "metadata": {},
   "outputs": [],
   "source": [
    "history = LossHistory()"
   ]
  },
  {
   "cell_type": "code",
   "execution_count": 23,
   "id": "406e736a",
   "metadata": {},
   "outputs": [
    {
     "data": {
      "text/plain": [
       "<tensorflow.python.keras.callbacks.History at 0x7ff9d8279a90>"
      ]
     },
     "execution_count": 23,
     "metadata": {},
     "output_type": "execute_result"
    }
   ],
   "source": [
    "# fit model\n",
    "model.fit(X_train, y_train, epochs=200, verbose=0, callbacks=[history])"
   ]
  },
  {
   "cell_type": "code",
   "execution_count": 24,
   "id": "363d0e10",
   "metadata": {},
   "outputs": [
    {
     "data": {
      "image/png": "[encoded data removed]",
      "text/plain": [
       "<Figure size 432x288 with 1 Axes>"
      ]
     },
     "metadata": {
      "needs_background": "light"
     },
     "output_type": "display_data"
    }
   ],
   "source": [
    "err = np.array(history.losses)\n",
    "ite = np.array([x for x in range(len(history.losses))])\n",
    "plt.plot(ite, err) \n",
    "plt.show()"
   ]
  },
  {
   "cell_type": "code",
   "execution_count": 25,
   "id": "592fc3fe",
   "metadata": {},
   "outputs": [],
   "source": [
    "yhat = model.predict(X_test, verbose=0)"
   ]
  },
  {
   "cell_type": "code",
   "execution_count": 26,
   "id": "b3ffc67b",
   "metadata": {},
   "outputs": [
    {
     "data": {
      "text/plain": [
       "115.94873052718935"
      ]
     },
     "execution_count": 26,
     "metadata": {},
     "output_type": "execute_result"
    }
   ],
   "source": [
    "np.average((yhat - y_test) / y_test) * 100"
   ]
  },
  {
   "cell_type": "code",
   "execution_count": 27,
   "id": "c24ab6b5",
   "metadata": {},
   "outputs": [],
   "source": [
    "model.save(\"./GRU.h5\")"
   ]
  },
  {
   "cell_type": "code",
   "execution_count": 28,
   "id": "228a2d54",
   "metadata": {},
   "outputs": [],
   "source": [
    "# Defining model Architecture\n",
    "model = Sequential()\n",
    "model.add(Conv1D(filters=64, kernel_size=2, activation='relu', input_shape=(steps,\n",
    "features)))\n",
    "model.add(MaxPooling1D(pool_size=2))\n",
    "model.add(Bidirectional(LSTM(32, return_sequences=True), input_shape=(int((X_train.shape[1])/2), X_train.shape[2])))\n",
    "model.add(Bidirectional(LSTM(24, return_sequences=True), input_shape=(int((X_train.shape[1])/2), X_train.shape[2])))\n",
    "model.add(Dense(100, activation='relu'))\n",
    "model.add(Dense(1))\n",
    "model.compile(optimizer='adam', loss='mse')"
   ]
  },
  {
   "cell_type": "code",
   "execution_count": 29,
   "id": "4e8bc0fe",
   "metadata": {},
   "outputs": [
    {
     "name": "stdout",
     "output_type": "stream",
     "text": [
      "Model: \"sequential_1\"\n",
      "_________________________________________________________________\n",
      "Layer (type)                 Output Shape              Param #   \n",
      "=================================================================\n",
      "conv1d_1 (Conv1D)            (None, 49, 64)            192       \n",
      "_________________________________________________________________\n",
      "max_pooling1d_1 (MaxPooling1 (None, 24, 64)            0         \n",
      "_________________________________________________________________\n",
      "bidirectional_2 (Bidirection (None, 24, 64)            24832     \n",
      "_________________________________________________________________\n",
      "bidirectional_3 (Bidirection (None, 24, 48)            17088     \n",
      "_________________________________________________________________\n",
      "dense_2 (Dense)              (None, 24, 100)           4900      \n",
      "_________________________________________________________________\n",
      "dense_3 (Dense)              (None, 24, 1)             101       \n",
      "=================================================================\n",
      "Total params: 47,113\n",
      "Trainable params: 47,113\n",
      "Non-trainable params: 0\n",
      "_________________________________________________________________\n"
     ]
    }
   ],
   "source": [
    "model.summary()"
   ]
  },
  {
   "cell_type": "code",
   "execution_count": 30,
   "id": "5685a159",
   "metadata": {},
   "outputs": [
    {
     "data": {
      "text/plain": [
       "<tensorflow.python.keras.callbacks.History at 0x7ff991f5ce80>"
      ]
     },
     "execution_count": 30,
     "metadata": {},
     "output_type": "execute_result"
    }
   ],
   "source": [
    "# fit model\n",
    "model.fit(X_train, y_train, epochs=200, verbose=0, callbacks=[history])"
   ]
  },
  {
   "cell_type": "code",
   "execution_count": 31,
   "id": "2d655053",
   "metadata": {},
   "outputs": [
    {
     "data": {
      "image/png": "[encoded data removed]",
      "text/plain": [
       "<Figure size 432x288 with 1 Axes>"
      ]
     },
     "metadata": {
      "needs_background": "light"
     },
     "output_type": "display_data"
    }
   ],
   "source": [
    "err = np.array(history.losses)\n",
    "ite = np.array([x for x in range(len(history.losses))])\n",
    "plt.plot(ite, err) \n",
    "plt.show()"
   ]
  },
  {
   "cell_type": "code",
   "execution_count": null,
   "id": "76656987",
   "metadata": {},
   "outputs": [],
   "source": [
    "yhat = model.predict(X_test, verbose=0)\n",
    "print(np.average((yhat - y_test) / y_test) * 100)\n",
    "model.save(\"./LSTM.h5\")"
   ]
  },
  {
   "cell_type": "code",
   "execution_count": null,
   "id": "b2d11310",
   "metadata": {},
   "outputs": [],
   "source": [
    "# Defining model Architecture\n",
    "model = Sequential()\n",
    "model.add(Conv1D(filters=64, kernel_size=2, activation='relu', input_shape=(steps,\n",
    "features)))\n",
    "model.add(MaxPooling1D(pool_size=2))\n",
    "model.add(Flatten())\n",
    "model.add(Dense(100, activation='relu'))\n",
    "model.add(Dense(1))\n",
    "model.compile(optimizer='adam', loss='mse')"
   ]
  },
  {
   "cell_type": "code",
   "execution_count": null,
   "id": "8be50c63",
   "metadata": {},
   "outputs": [],
   "source": [
    "model.summary()"
   ]
  },
  {
   "cell_type": "code",
   "execution_count": null,
   "id": "eaab7e8b",
   "metadata": {},
   "outputs": [],
   "source": [
    "# fit model\n",
    "model.fit(X_train, y_train, epochs=200, verbose=0, callbacks=[history])"
   ]
  },
  {
   "cell_type": "code",
   "execution_count": null,
   "id": "61a80b1b",
   "metadata": {},
   "outputs": [],
   "source": [
    "err = np.array(history.losses)\n",
    "ite = np.array([x for x in range(len(history.losses))])\n",
    "plt.plot(ite, err) \n",
    "plt.show()"
   ]
  },
  {
   "cell_type": "code",
   "execution_count": null,
   "id": "7f48a924",
   "metadata": {},
   "outputs": [],
   "source": [
    "yhat = model.predict(X_test, verbose=0)\n",
    "print(np.average((yhat - y_test) / y_test) * 100)\n",
    "model.save(\"./CNN.h5\")"
   ]
  }
 ],
 "metadata": {
  "kernelspec": {
   "display_name": "conda_amazonei_tensorflow2_p36",
   "language": "python",
   "name": "conda_amazonei_tensorflow2_p36"
  },
  "language_info": {
   "codemirror_mode": {
    "name": "ipython",
    "version": 3
   },
   "file_extension": ".py",
   "mimetype": "text/x-python",
   "name": "python",
   "nbconvert_exporter": "python",
   "pygments_lexer": "ipython3",
   "version": "3.6.13"
  }
 },
 "nbformat": 4,
 "nbformat_minor": 5
}
